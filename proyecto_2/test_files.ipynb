{
 "cells": [
  {
   "cell_type": "code",
   "execution_count": 1,
   "metadata": {},
   "outputs": [
    {
     "name": "stderr",
     "output_type": "stream",
     "text": [
      "/home/rodo/.pyenv/versions/3.11.8/lib/python3.11/site-packages/tqdm/auto.py:21: TqdmWarning: IProgress not found. Please update jupyter and ipywidgets. See https://ipywidgets.readthedocs.io/en/stable/user_install.html\n",
      "  from .autonotebook import tqdm as notebook_tqdm\n"
     ]
    }
   ],
   "source": [
    "from utils.EWMA import EWMA\n",
    "from utils.RSI import RSI\n",
    "from utils.SMA import SMA\n",
    "from utils.ADX import ADX\n",
    "from utils.SO import STO\n",
    "import pandas as pd\n",
    "import matplotlib.pyplot as plt\n",
    "from itertools import combinations\n",
    "import optuna "
   ]
  },
  {
   "cell_type": "code",
   "execution_count": 2,
   "metadata": {},
   "outputs": [],
   "source": [
    "df_5m = pd.read_csv('data/aapl_1h_test.csv')\n"
   ]
  },
  {
   "cell_type": "code",
   "execution_count": 3,
   "metadata": {},
   "outputs": [],
   "source": [
    "# Parámetros predefinidos\n",
    "params = {\n",
    "    'stop_loss_long': 0.024796600103236185,\n",
    "    'take_profit_long': 0.38593322012654585,\n",
    "    'stop_loss_short': 0.49615439857382665,\n",
    "    'take_profit_short': 0.6340815141615455,\n",
    "    'n_shares': 95,\n",
    "    'sma_long_window': 24,\n",
    "    'sma_short_window': 14,\n",
    "    'sto_window': 10,\n",
    "    'sto_upper_threshold': 81,\n",
    "    'sto_lower_threshold': 19\n",
    "}\n",
    "\n",
    "# Variables iniciales\n",
    "cash = 1_000_000\n",
    "active_operations = []\n",
    "com = 0.00125  # Comisión\n",
    "strategy_value = [1_000_000]"
   ]
  },
  {
   "cell_type": "code",
   "execution_count": 10,
   "metadata": {},
   "outputs": [],
   "source": [
    "def run_strategies(df, params, cash, active_operations, com, strategy_value):\n",
    "    buy_signals = pd.DataFrame()\n",
    "    sell_signals = pd.DataFrame()\n",
    "\n",
    "    # Ejecución de SMA\n",
    "    sma_buy_signals, sma_sell_signals, sma_strategy_value = SMA(\n",
    "        df, cash, active_operations, com, strategy_value,\n",
    "        params['sma_long_window'], params['sma_short_window'],\n",
    "        params['stop_loss_long'], params['take_profit_long'],\n",
    "        params['stop_loss_short'], params['take_profit_short'], params['n_shares'], fillna=0\n",
    "    )\n",
    "    buy_signals[\"SMA\"] = sma_buy_signals\n",
    "    sell_signals[\"SMA\"] = sma_sell_signals\n",
    "\n",
    "    # Ejecución de STO\n",
    "    sto_buy_signals, sto_sell_signals, sto_strategy_value = STO(\n",
    "        df, cash, active_operations, com, strategy_value,\n",
    "        params['sto_window'], params['sto_upper_threshold'], params['sto_lower_threshold'],\n",
    "        params['stop_loss_long'], params['take_profit_long'],\n",
    "        params['stop_loss_short'], params['take_profit_short'], params['n_shares'], fillna=0\n",
    "    )\n",
    "    buy_signals[\"STO\"] = sto_buy_signals\n",
    "    sell_signals[\"STO\"] = sto_sell_signals\n",
    "\n",
    "    # Combine sma_strategy_value and sto_strategy_value\n",
    "    strategy_value = [sma + sto for sma, sto in zip(sma_strategy_value, sto_strategy_value)]\n",
    "\n",
    "    for i, row in buy_signals.iterrows():\n",
    "        # If all indicators want to buy...\n",
    "        if sum(buy_signals.iloc[i,:]) == len(buy_signals.columns):\n",
    "            buy_signal = True\n",
    "        else:\n",
    "            buy_signal = False\n",
    "        buy_signals.loc[i, \"General\"] = buy_signal\n",
    "\n",
    "    for i, row in sell_signals.iterrows():\n",
    "        # If all indicators want to sell...\n",
    "        if sum(sell_signals.iloc[i,:]) == len(sell_signals.columns):\n",
    "            sell_signal = True\n",
    "        else:\n",
    "            sell_signal = False\n",
    "        sell_signals.loc[i, \"General\"] = sell_signal\n",
    "\n",
    "    return buy_signals, sell_signals, strategy_value"
   ]
  },
  {
   "cell_type": "code",
   "execution_count": 11,
   "metadata": {},
   "outputs": [
    {
     "ename": "TypeError",
     "evalue": "SMA.__init__() got an unexpected keyword argument 'fillna'",
     "output_type": "error",
     "traceback": [
      "\u001b[0;31m---------------------------------------------------------------------------\u001b[0m",
      "\u001b[0;31mTypeError\u001b[0m                                 Traceback (most recent call last)",
      "Cell \u001b[0;32mIn[11], line 1\u001b[0m\n\u001b[0;32m----> 1\u001b[0m buy_signals, sell_signals, strategy_value \u001b[38;5;241m=\u001b[39m \u001b[43mrun_strategies\u001b[49m\u001b[43m(\u001b[49m\u001b[43mdf_5m\u001b[49m\u001b[43m,\u001b[49m\u001b[43m \u001b[49m\u001b[43mparams\u001b[49m\u001b[43m,\u001b[49m\u001b[43m \u001b[49m\u001b[43mcash\u001b[49m\u001b[43m,\u001b[49m\u001b[43m \u001b[49m\u001b[43mactive_operations\u001b[49m\u001b[43m,\u001b[49m\u001b[43m \u001b[49m\u001b[43mcom\u001b[49m\u001b[43m,\u001b[49m\u001b[43m \u001b[49m\u001b[43mstrategy_value\u001b[49m\u001b[43m)\u001b[49m\n",
      "Cell \u001b[0;32mIn[10], line 6\u001b[0m, in \u001b[0;36mrun_strategies\u001b[0;34m(df, params, cash, active_operations, com, strategy_value)\u001b[0m\n\u001b[1;32m      3\u001b[0m sell_signals \u001b[38;5;241m=\u001b[39m pd\u001b[38;5;241m.\u001b[39mDataFrame()\n\u001b[1;32m      5\u001b[0m \u001b[38;5;66;03m# Ejecución de SMA\u001b[39;00m\n\u001b[0;32m----> 6\u001b[0m sma_buy_signals, sma_sell_signals, sma_strategy_value \u001b[38;5;241m=\u001b[39m \u001b[43mSMA\u001b[49m\u001b[43m(\u001b[49m\n\u001b[1;32m      7\u001b[0m \u001b[43m    \u001b[49m\u001b[43mdf\u001b[49m\u001b[43m,\u001b[49m\u001b[43m \u001b[49m\u001b[43mcash\u001b[49m\u001b[43m,\u001b[49m\u001b[43m \u001b[49m\u001b[43mactive_operations\u001b[49m\u001b[43m,\u001b[49m\u001b[43m \u001b[49m\u001b[43mcom\u001b[49m\u001b[43m,\u001b[49m\u001b[43m \u001b[49m\u001b[43mstrategy_value\u001b[49m\u001b[43m,\u001b[49m\n\u001b[1;32m      8\u001b[0m \u001b[43m    \u001b[49m\u001b[43mparams\u001b[49m\u001b[43m[\u001b[49m\u001b[38;5;124;43m'\u001b[39;49m\u001b[38;5;124;43msma_long_window\u001b[39;49m\u001b[38;5;124;43m'\u001b[39;49m\u001b[43m]\u001b[49m\u001b[43m,\u001b[49m\u001b[43m \u001b[49m\u001b[43mparams\u001b[49m\u001b[43m[\u001b[49m\u001b[38;5;124;43m'\u001b[39;49m\u001b[38;5;124;43msma_short_window\u001b[39;49m\u001b[38;5;124;43m'\u001b[39;49m\u001b[43m]\u001b[49m\u001b[43m,\u001b[49m\n\u001b[1;32m      9\u001b[0m \u001b[43m    \u001b[49m\u001b[43mparams\u001b[49m\u001b[43m[\u001b[49m\u001b[38;5;124;43m'\u001b[39;49m\u001b[38;5;124;43mstop_loss_long\u001b[39;49m\u001b[38;5;124;43m'\u001b[39;49m\u001b[43m]\u001b[49m\u001b[43m,\u001b[49m\u001b[43m \u001b[49m\u001b[43mparams\u001b[49m\u001b[43m[\u001b[49m\u001b[38;5;124;43m'\u001b[39;49m\u001b[38;5;124;43mtake_profit_long\u001b[39;49m\u001b[38;5;124;43m'\u001b[39;49m\u001b[43m]\u001b[49m\u001b[43m,\u001b[49m\n\u001b[1;32m     10\u001b[0m \u001b[43m    \u001b[49m\u001b[43mparams\u001b[49m\u001b[43m[\u001b[49m\u001b[38;5;124;43m'\u001b[39;49m\u001b[38;5;124;43mstop_loss_short\u001b[39;49m\u001b[38;5;124;43m'\u001b[39;49m\u001b[43m]\u001b[49m\u001b[43m,\u001b[49m\u001b[43m \u001b[49m\u001b[43mparams\u001b[49m\u001b[43m[\u001b[49m\u001b[38;5;124;43m'\u001b[39;49m\u001b[38;5;124;43mtake_profit_short\u001b[39;49m\u001b[38;5;124;43m'\u001b[39;49m\u001b[43m]\u001b[49m\u001b[43m,\u001b[49m\u001b[43m \u001b[49m\u001b[43mparams\u001b[49m\u001b[43m[\u001b[49m\u001b[38;5;124;43m'\u001b[39;49m\u001b[38;5;124;43mn_shares\u001b[39;49m\u001b[38;5;124;43m'\u001b[39;49m\u001b[43m]\u001b[49m\u001b[43m,\u001b[49m\u001b[43m \u001b[49m\u001b[43mfillna\u001b[49m\u001b[38;5;241;43m=\u001b[39;49m\u001b[38;5;241;43m0\u001b[39;49m\n\u001b[1;32m     11\u001b[0m \u001b[43m\u001b[49m\u001b[43m)\u001b[49m\n\u001b[1;32m     12\u001b[0m buy_signals[\u001b[38;5;124m\"\u001b[39m\u001b[38;5;124mSMA\u001b[39m\u001b[38;5;124m\"\u001b[39m] \u001b[38;5;241m=\u001b[39m sma_buy_signals\n\u001b[1;32m     13\u001b[0m sell_signals[\u001b[38;5;124m\"\u001b[39m\u001b[38;5;124mSMA\u001b[39m\u001b[38;5;124m\"\u001b[39m] \u001b[38;5;241m=\u001b[39m sma_sell_signals\n",
      "\u001b[0;31mTypeError\u001b[0m: SMA.__init__() got an unexpected keyword argument 'fillna'"
     ]
    }
   ],
   "source": [
    "buy_signals, sell_signals, strategy_value = run_strategies(df_5m, params, cash, active_operations, com, strategy_value)\n"
   ]
  }
 ],
 "metadata": {
  "kernelspec": {
   "display_name": "Python 3",
   "language": "python",
   "name": "python3"
  },
  "language_info": {
   "codemirror_mode": {
    "name": "ipython",
    "version": 3
   },
   "file_extension": ".py",
   "mimetype": "text/x-python",
   "name": "python",
   "nbconvert_exporter": "python",
   "pygments_lexer": "ipython3",
   "version": "3.11.8"
  }
 },
 "nbformat": 4,
 "nbformat_minor": 2
}
