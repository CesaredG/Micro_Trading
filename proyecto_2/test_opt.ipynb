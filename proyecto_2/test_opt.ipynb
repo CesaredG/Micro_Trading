{
 "cells": [
  {
   "cell_type": "code",
   "execution_count": 1,
   "metadata": {},
   "outputs": [
    {
     "name": "stderr",
     "output_type": "stream",
     "text": [
      "/home/rodo/.pyenv/versions/3.11.8/lib/python3.11/site-packages/tqdm/auto.py:21: TqdmWarning: IProgress not found. Please update jupyter and ipywidgets. See https://ipywidgets.readthedocs.io/en/stable/user_install.html\n",
      "  from .autonotebook import tqdm as notebook_tqdm\n"
     ]
    }
   ],
   "source": [
    "from utils.EWMA import EWMA\n",
    "from utils.RSI import RSI\n",
    "from utils.SMA import SMA\n",
    "from utils.ADX import ADX\n",
    "from utils.SO import STO\n",
    "import pandas as pd\n",
    "import matplotlib.pyplot as plt\n",
    "from itertools import combinations\n",
    "import optuna "
   ]
  },
  {
   "cell_type": "code",
   "execution_count": 2,
   "metadata": {},
   "outputs": [],
   "source": [
    "df_5m = pd.read_csv('data/aapl_5m_train.csv')\n",
    "\n"
   ]
  },
  {
   "cell_type": "code",
   "execution_count": 3,
   "metadata": {},
   "outputs": [],
   "source": [
    "indicadores = ['EWMA', 'RSI'] #,'SMA', 'ADX', 'STO'\n",
    "\n",
    "combinaciones_indicadores = []\n",
    "for i in range(1, len(indicadores) + 1):\n",
    "    combinaciones_indicadores.extend(combinations(indicadores, i))\n",
    "\n"
   ]
  },
  {
   "cell_type": "code",
   "execution_count": 4,
   "metadata": {},
   "outputs": [
    {
     "data": {
      "text/plain": [
       "[('EWMA',), ('RSI',), ('EWMA', 'RSI')]"
      ]
     },
     "execution_count": 4,
     "metadata": {},
     "output_type": "execute_result"
    }
   ],
   "source": [
    "combinaciones_indicadores"
   ]
  },
  {
   "cell_type": "code",
   "execution_count": 5,
   "metadata": {},
   "outputs": [],
   "source": [
    "cash = 1_000_000\n",
    "active_operations = []\n",
    "com = 0.00125  # comision en GBM\n",
    "strategy_value = [1_000_000]"
   ]
  },
  {
   "cell_type": "code",
   "execution_count": 6,
   "metadata": {},
   "outputs": [
    {
     "name": "stderr",
     "output_type": "stream",
     "text": [
      "[I 2024-02-25 14:16:47,070] A new study created in memory with name: no-name-5a832d24-4658-46d8-b3b5-f59e3ba48daf\n",
      "[I 2024-02-25 14:17:44,675] Trial 0 finished with value: 5993197.182301401 and parameters: {'stop_loss_long': 0.12773071447363823, 'take_profit_long': 0.2855408775584962, 'stop_loss_short': 0.5561746036981263, 'take_profit_short': 0.8133809332434301, 'n_shares': 80, 'ewma_long_window': 78, 'ewma_short_window': 16}. Best is trial 0 with value: 5993197.182301401.\n",
      "[I 2024-02-25 14:18:20,894] Trial 1 finished with value: 2435654.116177376 and parameters: {'stop_loss_long': 0.5710331361168561, 'take_profit_long': 0.21754186466423941, 'stop_loss_short': 0.05662236231157201, 'take_profit_short': 0.5854770537825043, 'n_shares': 60, 'ewma_long_window': 73, 'ewma_short_window': 11}. Best is trial 0 with value: 5993197.182301401.\n",
      "[I 2024-02-25 14:19:05,644] Trial 2 finished with value: 3670907.328612167 and parameters: {'stop_loss_long': 0.16080908611681027, 'take_profit_long': 0.48496026264120917, 'stop_loss_short': 0.35199343555067014, 'take_profit_short': 0.6627598050559516, 'n_shares': 67, 'ewma_long_window': 71, 'ewma_short_window': 39}. Best is trial 0 with value: 5993197.182301401.\n",
      "[I 2024-02-25 14:19:05,645] A new study created in memory with name: no-name-b17a2c9f-355a-4ba1-bf7c-997f65e4d745\n"
     ]
    },
    {
     "name": "stdout",
     "output_type": "stream",
     "text": [
      "Best parameters for combination: ('EWMA',)\n",
      "Best value: 5993197.182301401\n",
      "Best parameters: {'stop_loss_long': 0.12773071447363823, 'take_profit_long': 0.2855408775584962, 'stop_loss_short': 0.5561746036981263, 'take_profit_short': 0.8133809332434301, 'n_shares': 80, 'ewma_long_window': 78, 'ewma_short_window': 16}\n",
      "\n"
     ]
    },
    {
     "name": "stderr",
     "output_type": "stream",
     "text": [
      "[I 2024-02-25 14:20:32,104] Trial 0 finished with value: 1950972.509116315 and parameters: {'stop_loss_long': 0.021455869760262987, 'take_profit_long': 0.6693589151214605, 'stop_loss_short': 0.32119130101984067, 'take_profit_short': 0.6438926030872398, 'n_shares': 21, 'rsi_window': 42, 'rsi_upper_trheshold': 64, 'rsi_lower_trheshold': 41}. Best is trial 0 with value: 1950972.509116315.\n",
      "[I 2024-02-25 14:22:03,330] Trial 1 finished with value: 22828290.915850848 and parameters: {'stop_loss_long': 0.08741674127130425, 'take_profit_long': 0.3814788931044759, 'stop_loss_short': 0.8627481304348449, 'take_profit_short': 0.19459188339195344, 'n_shares': 89, 'rsi_window': 26, 'rsi_upper_trheshold': 61, 'rsi_lower_trheshold': 12}. Best is trial 1 with value: 22828290.915850848.\n",
      "[I 2024-02-25 14:25:21,510] Trial 2 finished with value: 15260520.380532626 and parameters: {'stop_loss_long': 0.4463890135206167, 'take_profit_long': 0.38939258075361816, 'stop_loss_short': 0.841203586889766, 'take_profit_short': 0.49337835478969916, 'n_shares': 49, 'rsi_window': 28, 'rsi_upper_trheshold': 57, 'rsi_lower_trheshold': 45}. Best is trial 1 with value: 22828290.915850848.\n",
      "[I 2024-02-25 14:25:21,512] A new study created in memory with name: no-name-6055484c-1b49-4936-88ad-292db39a2627\n"
     ]
    },
    {
     "name": "stdout",
     "output_type": "stream",
     "text": [
      "Best parameters for combination: ('RSI',)\n",
      "Best value: 22828290.915850848\n",
      "Best parameters: {'stop_loss_long': 0.08741674127130425, 'take_profit_long': 0.3814788931044759, 'stop_loss_short': 0.8627481304348449, 'take_profit_short': 0.19459188339195344, 'n_shares': 89, 'rsi_window': 26, 'rsi_upper_trheshold': 61, 'rsi_lower_trheshold': 12}\n",
      "\n"
     ]
    },
    {
     "name": "stderr",
     "output_type": "stream",
     "text": [
      "[I 2024-02-25 14:29:40,007] Trial 0 finished with value: 7298504.543449041 and parameters: {'stop_loss_long': 0.46388499276274153, 'take_profit_long': 0.7004517271880379, 'stop_loss_short': 0.5906185927927278, 'take_profit_short': 0.6220683922772062, 'n_shares': 82, 'rsi_window': 19, 'rsi_upper_trheshold': 54, 'rsi_lower_trheshold': 31, 'ewma_long_window': 90, 'ewma_short_window': 16}. Best is trial 0 with value: 7298504.543449041.\n",
      "[I 2024-02-25 14:30:58,148] Trial 1 finished with value: 8925096.84355918 and parameters: {'stop_loss_long': 0.7852046725153508, 'take_profit_long': 0.32710186374943906, 'stop_loss_short': 0.5202800637673406, 'take_profit_short': 0.6342844835015624, 'n_shares': 94, 'rsi_window': 47, 'rsi_upper_trheshold': 68, 'rsi_lower_trheshold': 46, 'ewma_long_window': 84, 'ewma_short_window': 14}. Best is trial 1 with value: 8925096.84355918.\n",
      "[I 2024-02-25 14:32:28,434] Trial 2 finished with value: 7309619.466714841 and parameters: {'stop_loss_long': 0.3350046308260049, 'take_profit_long': 0.016904020673776728, 'stop_loss_short': 0.9027774738767687, 'take_profit_short': 0.8216999580110956, 'n_shares': 92, 'rsi_window': 17, 'rsi_upper_trheshold': 69, 'rsi_lower_trheshold': 31, 'ewma_long_window': 64, 'ewma_short_window': 18}. Best is trial 1 with value: 8925096.84355918.\n"
     ]
    },
    {
     "name": "stdout",
     "output_type": "stream",
     "text": [
      "Best parameters for combination: ('EWMA', 'RSI')\n",
      "Best value: 8925096.84355918\n",
      "Best parameters: {'stop_loss_long': 0.7852046725153508, 'take_profit_long': 0.32710186374943906, 'stop_loss_short': 0.5202800637673406, 'take_profit_short': 0.6342844835015624, 'n_shares': 94, 'rsi_window': 47, 'rsi_upper_trheshold': 68, 'rsi_lower_trheshold': 46, 'ewma_long_window': 84, 'ewma_short_window': 14}\n",
      "\n",
      "Overall best value: 22828290.915850848\n",
      "Overall best parameters: {'stop_loss_long': 0.08741674127130425, 'take_profit_long': 0.3814788931044759, 'stop_loss_short': 0.8627481304348449, 'take_profit_short': 0.19459188339195344, 'n_shares': 89, 'rsi_window': 26, 'rsi_upper_trheshold': 61, 'rsi_lower_trheshold': 12}\n"
     ]
    }
   ],
   "source": [
    "def optimize(trial, strat):\n",
    "    stop_loss_long = trial.suggest_float('stop_loss_long', 0.01, 0.95)\n",
    "    take_profit_long = trial.suggest_float('take_profit_long', 0.01, 0.95)\n",
    "    stop_loss_short = trial.suggest_float('stop_loss_short', 0.01, 0.95)\n",
    "    take_profit_short = trial.suggest_float('take_profit_short', 0.01, 0.95)\n",
    "    n_shares = trial.suggest_int('n_shares', 10, 100)\n",
    "   \n",
    "\n",
    "    strategy_params = {}\n",
    "\n",
    "    buy_signals = pd.DataFrame()\n",
    "    sell_signals = pd.DataFrame()\n",
    "\n",
    "    if \"RSI\" in strat:\n",
    "        strategy_params[\"RSI\"] = {\n",
    "        \"window\" : trial.suggest_int('rsi_window', 10, 50),\n",
    "        \"upper_treshold\" : trial.suggest_int('rsi_upper_trheshold', 50, 95),\n",
    "        \"lower_treshold\" : trial.suggest_int('rsi_lower_trheshold', 5, 49)\n",
    "        }\n",
    "        rsi = RSI(df_5m, cash, active_operations, com, strategy_value, n_shares, strategy_params[\"RSI\"][\"window\"], strategy_params[\"RSI\"][\"upper_treshold\"], strategy_params[\"RSI\"][\"lower_treshold\"], stop_loss_long, take_profit_long, stop_loss_short, take_profit_short)\n",
    "        rsi_buy_signals, rsi_sell_signals, rsi_strategy_value = rsi.run_strategy()\n",
    "        buy_signals[\"RSI\"] = rsi_buy_signals\n",
    "        sell_signals[\"RSI\"] = rsi_sell_signals\n",
    "    if \"EWMA\" in strat:\n",
    "        strategy_params[\"EWMA\"] = {\n",
    "        \"long_window\" : trial.suggest_int('ewma_long_window', 50, 100),\n",
    "        \"short_window\" : trial.suggest_int('ewma_short_window', 5, 49)\n",
    "        }\n",
    "        ewma = EWMA(df_5m, cash, active_operations, com, strategy_value, n_shares, strategy_params[\"EWMA\"][\"long_window\"], strategy_params[\"EWMA\"][\"short_window\"], stop_loss_long, take_profit_long, stop_loss_short, take_profit_short)\n",
    "        ewma_buy_signals, ewma_sell_signals, ewma_strategy_value = ewma.run_strategy()\n",
    "        buy_signals[\"EWMA\"] = ewma_buy_signals\n",
    "        sell_signals[\"EWMA\"] = ewma_sell_signals\n",
    "\n",
    "    if \"SMA\" in strat:\n",
    "        strategy_params[\"SMA\"] = {\n",
    "        \"long_window\" : trial.suggest_int('sma_long_window', 20, 50),\n",
    "        \"short_window\" : trial.suggest_int('sma_short_window', 2, 19)\n",
    "        }\n",
    "        sma = SMA(df_5m, cash, active_operations, com, strategy_value, n_shares, strategy_params[\"SMA\"][\"long_window\"], strategy_params[\"SMA\"][\"short_window\"], stop_loss_long, take_profit_long, stop_loss_short, take_profit_short)\n",
    "        sma_buy_signals, sma_sell_signals, sma_strategy_value = sma.run_strategy()\n",
    "        buy_signals[\"SMA\"] = sma_buy_signals\n",
    "        sell_signals[\"SMA\"] = sma_sell_signals\n",
    "    \n",
    "    if \"ADX\" in strat:\n",
    "        strategy_params[\"ADX\"] = {\n",
    "        \"window\" : trial.suggest_int('adx_window', 10, 50),\n",
    "        \"threshold\" : trial.suggest_int('adx_threshold', 15, 30)\n",
    "        }\n",
    "        adx = ADX(df_5m, cash, active_operations, com, strategy_value, n_shares, strategy_params[\"ADX\"][\"window\"], strategy_params[\"ADX\"][\"threshold\"], stop_loss_long, take_profit_long, stop_loss_short, take_profit_short)\n",
    "        adx_buy_signals, adx_sell_signals, adx_strategy_value = adx.run_strategy()\n",
    "        buy_signals[\"ADX\"] = adx_buy_signals\n",
    "        sell_signals[\"ADX\"] = adx_sell_signals\n",
    "\n",
    "    if \"STO\" in strat:\n",
    "        strategy_params[\"STO\"] = {\n",
    "        \"window\" : trial.suggest_int('sto_window', 10, 50),\n",
    "        \"upper_threshold\" : trial.suggest_int('sto_upper_threshold', 50, 95),\n",
    "        \"lower_threshold\" : trial.suggest_int('sto_lower_threshold', 5, 49)\n",
    "        }\n",
    "        sto = STO(df_5m, cash, active_operations, com, strategy_value, n_shares, strategy_params[\"STO\"][\"window\"], strategy_params[\"STO\"][\"upper_threshold\"], strategy_params[\"STO\"][\"lower_threshold\"], stop_loss_long, take_profit_long, stop_loss_short, take_profit_short)\n",
    "        sto_buy_signals, sto_sell_signals, sto_strategy_value = sto.run_strategy()\n",
    "        buy_signals[\"STO\"] = sto_buy_signals\n",
    "        sell_signals[\"STO\"] = sto_sell_signals\n",
    "\n",
    "    \n",
    "    # Backtesting\n",
    "    for i, row in buy_signals.iterrows():\n",
    "        # If all indicators want to buy...\n",
    "        if sum(buy_signals.iloc[i,:]) == len(buy_signals.columns):\n",
    "            buy_signal = True\n",
    "        else:\n",
    "            buy_signal = False\n",
    "        buy_signals.loc[i, \"General\"] = buy_signal\n",
    "\n",
    "    for i, row in sell_signals.iterrows():\n",
    "        # If all indicators want to sell...\n",
    "        if sum(sell_signals.iloc[i,:]) == len(sell_signals.columns):\n",
    "            sell_signal = True\n",
    "        else:\n",
    "            sell_signal = False\n",
    "        sell_signals.loc[i, \"General\"] = sell_signal\n",
    "\n",
    "    \n",
    "    return strategy_value[-1]\n",
    "\n",
    "best_value_overall = float('-inf')\n",
    "best_params_overall = {}\n",
    "\n",
    "for strat in combinaciones_indicadores:\n",
    "    pruner = optuna.pruners.MedianPruner()\n",
    "    study = optuna.create_study(direction='maximize',sampler=optuna.samplers.TPESampler(), pruner=pruner)\n",
    "    study.optimize(lambda trial: optimize(trial, strat), n_trials=5, n_jobs=-1)\n",
    "\n",
    "    # Get the best parameters and their corresponding value\n",
    "    best_params = study.best_params\n",
    "    best_value = study.best_value\n",
    "\n",
    "    if best_value > best_value_overall:\n",
    "        best_value_overall = best_value\n",
    "        best_params_overall = best_params\n",
    "\n",
    "    print(\"Best parameters for combination:\", strat)\n",
    "    print(\"Best value:\", best_value)\n",
    "    print(\"Best parameters:\", best_params)\n",
    "    print()\n",
    "\n",
    "print(\"Overall best value:\", best_value_overall)\n",
    "print(\"Overall best parameters:\", best_params_overall)\n"
   ]
  },
  {
   "cell_type": "code",
   "execution_count": 13,
   "metadata": {},
   "outputs": [
    {
     "ename": "ValueError",
     "evalue": "No trials are completed yet.",
     "output_type": "error",
     "traceback": [
      "\u001b[0;31m---------------------------------------------------------------------------\u001b[0m",
      "\u001b[0;31mValueError\u001b[0m                                Traceback (most recent call last)",
      "Cell \u001b[0;32mIn[13], line 5\u001b[0m\n\u001b[1;32m      2\u001b[0m new_data \u001b[38;5;241m=\u001b[39m pd\u001b[38;5;241m.\u001b[39mread_csv(\u001b[38;5;124m'\u001b[39m\u001b[38;5;124mdata/aapl_1h_test.csv\u001b[39m\u001b[38;5;124m'\u001b[39m)\n\u001b[1;32m      4\u001b[0m \u001b[38;5;66;03m# Use the best parameters obtained from the optimization process\u001b[39;00m\n\u001b[0;32m----> 5\u001b[0m best_params \u001b[38;5;241m=\u001b[39m \u001b[43mstudy\u001b[49m\u001b[38;5;241;43m.\u001b[39;49m\u001b[43mbest_params\u001b[49m\n\u001b[1;32m      7\u001b[0m \u001b[38;5;66;03m# Initialize the strategies with the best parameters\u001b[39;00m\n\u001b[1;32m      8\u001b[0m rsi \u001b[38;5;241m=\u001b[39m RSI(new_data, cash, active_operations, com, strategy_value, best_params[\u001b[38;5;124m'\u001b[39m\u001b[38;5;124mn_shares\u001b[39m\u001b[38;5;124m'\u001b[39m], best_params[\u001b[38;5;124m'\u001b[39m\u001b[38;5;124mrsi_window\u001b[39m\u001b[38;5;124m'\u001b[39m], best_params[\u001b[38;5;124m'\u001b[39m\u001b[38;5;124mrsi_upper_trheshold\u001b[39m\u001b[38;5;124m'\u001b[39m], best_params[\u001b[38;5;124m'\u001b[39m\u001b[38;5;124mrsi_lower_trheshold\u001b[39m\u001b[38;5;124m'\u001b[39m], best_params[\u001b[38;5;124m'\u001b[39m\u001b[38;5;124mstop_loss_long\u001b[39m\u001b[38;5;124m'\u001b[39m], best_params[\u001b[38;5;124m'\u001b[39m\u001b[38;5;124mtake_profit_long\u001b[39m\u001b[38;5;124m'\u001b[39m], best_params[\u001b[38;5;124m'\u001b[39m\u001b[38;5;124mstop_loss_short\u001b[39m\u001b[38;5;124m'\u001b[39m], best_params[\u001b[38;5;124m'\u001b[39m\u001b[38;5;124mtake_profit_short\u001b[39m\u001b[38;5;124m'\u001b[39m])\n",
      "File \u001b[0;32m~/.pyenv/versions/3.11.8/lib/python3.11/site-packages/optuna/study/study.py:114\u001b[0m, in \u001b[0;36mStudy.best_params\u001b[0;34m(self)\u001b[0m\n\u001b[1;32m    102\u001b[0m \u001b[38;5;129m@property\u001b[39m\n\u001b[1;32m    103\u001b[0m \u001b[38;5;28;01mdef\u001b[39;00m \u001b[38;5;21mbest_params\u001b[39m(\u001b[38;5;28mself\u001b[39m) \u001b[38;5;241m-\u001b[39m\u001b[38;5;241m>\u001b[39m \u001b[38;5;28mdict\u001b[39m[\u001b[38;5;28mstr\u001b[39m, Any]:\n\u001b[1;32m    104\u001b[0m \u001b[38;5;250m    \u001b[39m\u001b[38;5;124;03m\"\"\"Return parameters of the best trial in the study.\u001b[39;00m\n\u001b[1;32m    105\u001b[0m \n\u001b[1;32m    106\u001b[0m \u001b[38;5;124;03m    .. note::\u001b[39;00m\n\u001b[0;32m   (...)\u001b[0m\n\u001b[1;32m    111\u001b[0m \n\u001b[1;32m    112\u001b[0m \u001b[38;5;124;03m    \"\"\"\u001b[39;00m\n\u001b[0;32m--> 114\u001b[0m     \u001b[38;5;28;01mreturn\u001b[39;00m \u001b[38;5;28;43mself\u001b[39;49m\u001b[38;5;241;43m.\u001b[39;49m\u001b[43mbest_trial\u001b[49m\u001b[38;5;241m.\u001b[39mparams\n",
      "File \u001b[0;32m~/.pyenv/versions/3.11.8/lib/python3.11/site-packages/optuna/study/study.py:157\u001b[0m, in \u001b[0;36mStudy.best_trial\u001b[0;34m(self)\u001b[0m\n\u001b[1;32m    151\u001b[0m \u001b[38;5;28;01mif\u001b[39;00m \u001b[38;5;28mself\u001b[39m\u001b[38;5;241m.\u001b[39m_is_multi_objective():\n\u001b[1;32m    152\u001b[0m     \u001b[38;5;28;01mraise\u001b[39;00m \u001b[38;5;167;01mRuntimeError\u001b[39;00m(\n\u001b[1;32m    153\u001b[0m         \u001b[38;5;124m\"\u001b[39m\u001b[38;5;124mA single best trial cannot be retrieved from a multi-objective study. Consider \u001b[39m\u001b[38;5;124m\"\u001b[39m\n\u001b[1;32m    154\u001b[0m         \u001b[38;5;124m\"\u001b[39m\u001b[38;5;124musing Study.best_trials to retrieve a list containing the best trials.\u001b[39m\u001b[38;5;124m\"\u001b[39m\n\u001b[1;32m    155\u001b[0m     )\n\u001b[0;32m--> 157\u001b[0m \u001b[38;5;28;01mreturn\u001b[39;00m copy\u001b[38;5;241m.\u001b[39mdeepcopy(\u001b[38;5;28;43mself\u001b[39;49m\u001b[38;5;241;43m.\u001b[39;49m\u001b[43m_storage\u001b[49m\u001b[38;5;241;43m.\u001b[39;49m\u001b[43mget_best_trial\u001b[49m\u001b[43m(\u001b[49m\u001b[38;5;28;43mself\u001b[39;49m\u001b[38;5;241;43m.\u001b[39;49m\u001b[43m_study_id\u001b[49m\u001b[43m)\u001b[49m)\n",
      "File \u001b[0;32m~/.pyenv/versions/3.11.8/lib/python3.11/site-packages/optuna/storages/_in_memory.py:234\u001b[0m, in \u001b[0;36mInMemoryStorage.get_best_trial\u001b[0;34m(self, study_id)\u001b[0m\n\u001b[1;32m    231\u001b[0m best_trial_id \u001b[38;5;241m=\u001b[39m \u001b[38;5;28mself\u001b[39m\u001b[38;5;241m.\u001b[39m_studies[study_id]\u001b[38;5;241m.\u001b[39mbest_trial_id\n\u001b[1;32m    233\u001b[0m \u001b[38;5;28;01mif\u001b[39;00m best_trial_id \u001b[38;5;129;01mis\u001b[39;00m \u001b[38;5;28;01mNone\u001b[39;00m:\n\u001b[0;32m--> 234\u001b[0m     \u001b[38;5;28;01mraise\u001b[39;00m \u001b[38;5;167;01mValueError\u001b[39;00m(\u001b[38;5;124m\"\u001b[39m\u001b[38;5;124mNo trials are completed yet.\u001b[39m\u001b[38;5;124m\"\u001b[39m)\n\u001b[1;32m    235\u001b[0m \u001b[38;5;28;01melif\u001b[39;00m \u001b[38;5;28mlen\u001b[39m(\u001b[38;5;28mself\u001b[39m\u001b[38;5;241m.\u001b[39m_studies[study_id]\u001b[38;5;241m.\u001b[39mdirections) \u001b[38;5;241m>\u001b[39m \u001b[38;5;241m1\u001b[39m:\n\u001b[1;32m    236\u001b[0m     \u001b[38;5;28;01mraise\u001b[39;00m \u001b[38;5;167;01mRuntimeError\u001b[39;00m(\n\u001b[1;32m    237\u001b[0m         \u001b[38;5;124m\"\u001b[39m\u001b[38;5;124mBest trial can be obtained only for single-objective optimization.\u001b[39m\u001b[38;5;124m\"\u001b[39m\n\u001b[1;32m    238\u001b[0m     )\n",
      "\u001b[0;31mValueError\u001b[0m: No trials are completed yet."
     ]
    }
   ],
   "source": [
    "\n"
   ]
  }
 ],
 "metadata": {
  "kernelspec": {
   "display_name": "venv",
   "language": "python",
   "name": "python3"
  },
  "language_info": {
   "codemirror_mode": {
    "name": "ipython",
    "version": 3
   },
   "file_extension": ".py",
   "mimetype": "text/x-python",
   "name": "python",
   "nbconvert_exporter": "python",
   "pygments_lexer": "ipython3",
   "version": "3.11.8"
  }
 },
 "nbformat": 4,
 "nbformat_minor": 2
}
