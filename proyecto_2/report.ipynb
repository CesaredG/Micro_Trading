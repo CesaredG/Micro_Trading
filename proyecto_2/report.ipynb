{
 "cells": [
  {
   "cell_type": "markdown",
   "metadata": {},
   "source": [
    "<div class=\"image-container\">\n",
    "  <img class=\"image\" src=\"https://upload.wikimedia.org/wikipedia/commons/2/2d/Logo-ITESO-Vertical-SinFondo-png.png\" width=\"300\" height=\"300\" style=\"float: right\">\n",
    "</div>\n",
    "\n",
    "<p>\n",
    "    <font style = \"font-family:Cambria\">          \n",
    "    <h2><font color=\"#191970\" size = 6 >\n",
    "       Proyecto: 002 Technical Analysis\n",
    "    </font></h2>         \n",
    "    <br>         \n",
    "    <br> \n",
    "    <h3><font size =4>Integrantes:</font></h3> \n",
    "    <ul>\n",
    "        <li>Ricardo Rodriguez Salcedo</li>\n",
    "        <li>Rodolfo Garcia Palma</li>\n",
    "        <li>Sebastian Muñoz Baruqui</li>\n",
    "        <li>Fernando Zepeda Fernandez</li>\n",
    "        <li>Cesar Gerardo Escobar</li>\n",
    "    </ul>               \n",
    "    </font>\n",
    "</p>\n"
   ]
  },
  {
   "cell_type": "markdown",
   "metadata": {},
   "source": [
    "> ## Introducción \n",
    "\n",
    "El análisis técnico en los mercados financieros consiste en el examen de datos históricos para prever tendencias futuras en los precios de los activos. Proporciona un marco metodológico para interpretar el comportamiento del mercado, permitiendo la toma de decisiones informadas y la gestión de riesgos. Aunque no se trata de un enfoque infalible, se reconoce como una herramienta valiosa para una amplia gama de operadores del mercado. Diversas estrategias, como EWMA, SMA, ADX, RSI y el Oscilador Estocástico, se emplean con el fin de optimizar estrategias de inversión basadas en el análisis técnico.\n",
    "\n",
    "### Descripción de parámetros\n",
    "\n",
    "1. **RSI:**\n",
    "   - `rsi_window`: Ventana para el cálculo del RSI (entero entre 10 y 50).\n",
    "   - `rsi_upper_threshold`: Umbral superior del RSI (entero entre 50 y 95).\n",
    "   - `rsi_lower_threshold`: Umbral inferior del RSI (entero entre 5 y 49).\n",
    "\n",
    "2. **EWMA:**\n",
    "   - `ewma_long_window`: Ventana para la media móvil exponencial larga (entero entre 50 y 100).\n",
    "   - `ewma_short_window`: Ventana para la media móvil exponencial corta (entero entre 5 y 49).\n",
    "\n",
    "3. **SMA:**\n",
    "   - `sma_long_window`: Ventana para la media móvil simple larga (entero entre 20 y 50).\n",
    "   - `sma_short_window`: Ventana para la media móvil simple corta (entero entre 2 y 19).\n",
    "\n",
    "4. **ADX:**\n",
    "   - `adx_window`: Ventana para el cálculo del ADX (entero entre 10 y 50).\n",
    "   - `adx_threshold`: Umbral del ADX (entero entre 15 y 30).\n",
    "\n",
    "5. **STO:**\n",
    "   - `sto_window`: Ventana para el cálculo del indicador estocástico (entero entre 10 y 50).\n",
    "   - `sto_upper_threshold`: Umbral superior del indicador estocástico (entero entre 50 y 95).\n",
    "   - `sto_lower_threshold`: Umbral inferior del indicador estocástico (entero entre 5 y 49).\n"
   ]
  },
  {
   "cell_type": "markdown",
   "metadata": {},
   "source": [
    "> ## Mejor estrategia de trading "
   ]
  },
  {
   "cell_type": "markdown",
   "metadata": {},
   "source": [
    "> ## Conclusiónes"
   ]
  }
 ],
 "metadata": {
  "kernelspec": {
   "display_name": "venv",
   "language": "python",
   "name": "python3"
  },
  "language_info": {
   "name": "python",
   "version": "3.11.8"
  }
 },
 "nbformat": 4,
 "nbformat_minor": 2
}
