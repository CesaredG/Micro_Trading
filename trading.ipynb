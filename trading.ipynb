{
 "cells": [
  {
   "cell_type": "code",
   "execution_count": 1,
   "metadata": {},
   "outputs": [],
   "source": [
    "import numpy as np\n",
    "from scipy.integrate import quad\n",
    "\n",
    "def profit(S_0, B, A,lb,ls):\n",
    "    beneficio_esperado = (S_0 - B) * lb + (A - S_0) * ls\n",
    "    return beneficio_esperado\n",
    "\n",
    "def loss(P, A, B, sigma, miu):\n",
    "    def integral_1(P):\n",
    "        return (P - A) * (1 / (sigma * np.sqrt(2 * np.pi))) * np.exp(-((P - miu) ** 2) / (2 * sigma ** 2))\n",
    "    \n",
    "    def integral_2(P):\n",
    "        return (B - P) * (1 / (sigma * np.sqrt(2 * np.pi))) * np.exp(-((P - miu) ** 2) / (2 * sigma ** 2))\n",
    "    \n",
    "    result = quad(integral_1, A,100)[0]  + quad(integral_2, 0, B)[0]\n",
    "    return result\n",
    "\n",
    "def utilidad(profit, loss, Prob_I):\n",
    "    utilidad = (1-Prob_I)*profit - Prob_I * loss\n",
    "    return utilidad\n",
    "\n"
   ]
  },
  {
   "cell_type": "code",
   "execution_count": 2,
   "metadata": {},
   "outputs": [
    {
     "name": "stdout",
     "output_type": "stream",
     "text": [
      "Profit: 3.0\n",
      "Loss: 0.8331547058768409\n",
      "Utility: 1.658395852943106\n"
     ]
    }
   ],
   "source": [
    "# Define the values\n",
    "S_0 = 60\n",
    "B = 55\n",
    "A = 65\n",
    "ls = 0.3\n",
    "lb = 0.3\n",
    "Prob_I = 0.35\n",
    "sigma = 5\n",
    "miu = 60\n",
    "\n",
    "# Calculate profit, loss, and utility\n",
    "profit_value = profit(S_0, B, A,lb,ls)\n",
    "loss_value = loss(S_0, A, B, sigma, miu)\n",
    "utility_value = utilidad(profit_value, loss_value, Prob_I)\n",
    "\n",
    "print(f\"Profit: {profit_value}\")\n",
    "print(f\"Loss: {loss_value}\")\n",
    "print(f\"Utility: {utility_value}\")"
   ]
  },
  {
   "cell_type": "markdown",
   "metadata": {},
   "source": [
    "# Proyecto"
   ]
  },
  {
   "cell_type": "code",
   "execution_count": 3,
   "metadata": {},
   "outputs": [],
   "source": [
    "def profit(S_0, B, A,lb,ls):\n",
    "    beneficio_esperado = (S_0 - B) * lb + (A - S_0) * ls\n",
    "    return beneficio_esperado\n",
    "\n",
    "def pdf(x,sigma,miu):\n",
    "  # Calcular el numerador\n",
    "  num = 1 / (x * sigma * np.sqrt(2 * np.pi))\n",
    "  # Calcular el exponente\n",
    "  exp = - ((np.log(x) - miu) ** 2) / (2 * sigma ** 2)\n",
    "  # Calcular el resultado\n",
    "  result = num * np.exp(exp)\n",
    "  return result\n",
    "\n",
    "def loss(P, A, B, sigma, miu):\n",
    "    def integral_1(P):\n",
    "        return (P - A) * pdf(P,sigma,miu)\n",
    "    \n",
    "    def integral_2(P):\n",
    "        return (B - P) * pdf(P,sigma,miu)\n",
    "    \n",
    "    result = quad(integral_1, A,np.inf)[0]  + quad(integral_2, 0, B)[0]\n",
    "    return result\n",
    "\n",
    "def utilidad(profit, loss, IIi):\n",
    "    utilidad = (1-IIi)*profit - IIi * loss\n",
    "    return utilidad\n"
   ]
  },
  {
   "cell_type": "code",
   "execution_count": 4,
   "metadata": {},
   "outputs": [],
   "source": [
    "# Parametros\n",
    "miu = 60\n",
    "sigma = np.sqrt(2.25)\n",
    "IIi = 0.4\n",
    "S0=65\n",
    "\n"
   ]
  }
 ],
 "metadata": {
  "kernelspec": {
   "display_name": "Python 3",
   "language": "python",
   "name": "python3"
  },
  "language_info": {
   "codemirror_mode": {
    "name": "ipython",
    "version": 3
   },
   "file_extension": ".py",
   "mimetype": "text/x-python",
   "name": "python",
   "nbconvert_exporter": "python",
   "pygments_lexer": "ipython3",
   "version": "3.11.4"
  }
 },
 "nbformat": 4,
 "nbformat_minor": 2
}
